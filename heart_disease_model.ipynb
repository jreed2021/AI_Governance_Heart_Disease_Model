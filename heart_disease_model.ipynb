{
 "cells": [
  {
   "cell_type": "code",
   "execution_count": 4,
   "id": "14a9e561-cf60-4072-a94a-c7c975a7775c",
   "metadata": {},
   "outputs": [
    {
     "name": "stdout",
     "output_type": "stream",
     "text": [
      "  Patient_ID  Age  Gender  Systolic_BP  Diastolic_BP  Cholesterol  \\\n",
      "0   1f20f34d   68       0          152           104          264   \n",
      "1   2d406b65   58       0          129            95          296   \n",
      "2   ac5e3596   44       0          138            89          197   \n",
      "3   c5ac2025   72       1          130           114          257   \n",
      "4   ae28bd22   37       0          101           108          201   \n",
      "\n",
      "   Glucose_Level  Heart_Rate  Smoking_Status   BMI  Family_History  \\\n",
      "0             98         102               0  18.7               1   \n",
      "1            128         108               1  35.8               0   \n",
      "2            140          88               0  20.2               0   \n",
      "3            161          64               1  27.4               0   \n",
      "4             78          78               0  33.1               0   \n",
      "\n",
      "   Exercise_Hours_Per_Week  Heart_Disease  \n",
      "0                        4              0  \n",
      "1                        0              1  \n",
      "2                        2              0  \n",
      "3                        0              1  \n",
      "4                        3              0  \n"
     ]
    }
   ],
   "source": [
    "'''\n",
    "File name: gen_syn.py\n",
    "Author: Janessa Reed\n",
    "Created: 2/26/2024\n",
    "Version: 1.0\n",
    "\n",
    "License: MIT License \n",
    "'''\n",
    "\n",
    "import pandas as pd\n",
    "import numpy as np\n",
    "from faker import Faker\n",
    "\n",
    "# Initialize Faker\n",
    "fake = Faker()\n",
    "\n",
    "# Set random seed for reproducibility\n",
    "np.random.seed(42)\n",
    "\n",
    "# Number of synthetic patients\n",
    "num_samples = 1000\n",
    "\n",
    "# Generate patient data\n",
    "data = {\n",
    "    \"Patient_ID\": [fake.uuid4()[:8] for _ in range(num_samples)],  # Random unique IDs\n",
    "    \"Age\": np.random.randint(30, 80, num_samples),  # Age 30-80\n",
    "    \"Gender\": np.random.choice([0, 1], num_samples),  # 0 = Female, 1 = Male\n",
    "    \"Systolic_BP\": np.random.randint(100, 180, num_samples),  # BP range 100-180\n",
    "    \"Diastolic_BP\": np.random.randint(60, 120, num_samples),  # BP range 60-120\n",
    "    \"Cholesterol\": np.random.randint(150, 300, num_samples),  # Cholesterol levels 150-300\n",
    "    \"Glucose_Level\": np.random.randint(70, 200, num_samples),  # Glucose levels 70-200\n",
    "    \"Heart_Rate\": np.random.randint(50, 120, num_samples),  # Heart rate 50-120\n",
    "    \"Smoking_Status\": np.random.choice([0, 1], num_samples),  # 0 = Non-Smoker, 1 = Smoker\n",
    "    \"BMI\": np.round(np.random.uniform(18.5, 40, num_samples), 1),  # BMI between 18.5 and 40\n",
    "    \"Family_History\": np.random.choice([0, 1], num_samples, p=[0.7, 0.3]),  # 30% have family history\n",
    "    \"Exercise_Hours_Per_Week\": np.random.randint(0, 10, num_samples),  # Weekly exercise\n",
    "}\n",
    "\n",
    "# Convert to DataFrame\n",
    "df = pd.DataFrame(data)\n",
    "\n",
    "# Define the target variable (Heart Disease presence)\n",
    "df[\"Heart_Disease\"] = (\n",
    "    (df[\"Age\"] > 55) & (df[\"Cholesterol\"] > 240) & (df[\"Smoking_Status\"] == 1)\n",
    ").astype(int)  # Simple risk-based model\n",
    "\n",
    "# Save dataset to CSV\n",
    "df.to_csv(\"synthetic_heart_disease_human_readable.csv\", index=False)\n",
    "\n",
    "# Display first few rows\n",
    "print(df.head())\n",
    "\n",
    "\n"
   ]
  },
  {
   "cell_type": "code",
   "execution_count": 5,
   "id": "34890d01-eb9e-4b72-86ad-627885d267cb",
   "metadata": {},
   "outputs": [
    {
     "name": "stdout",
     "output_type": "stream",
     "text": [
      "Training set: (800, 11) (800,)\n",
      "Testing set: (200, 11) (200,)\n"
     ]
    }
   ],
   "source": [
    "from sklearn.model_selection import train_test_split\n",
    "\n",
    "# Drop unnecessary columns (ID is not a feature)\n",
    "X = df.drop(columns=[\"Patient_ID\", \"Heart_Disease\"])  # Features\n",
    "y = df[\"Heart_Disease\"]  # Target variable\n",
    "\n",
    "# Split dataset: 80% training, 20% testing\n",
    "X_train, X_test, y_train, y_test = train_test_split(X, y, test_size=0.2, random_state=42, stratify=y)\n",
    "\n",
    "# Check dataset shape\n",
    "print(\"Training set:\", X_train.shape, y_train.shape)\n",
    "print(\"Testing set:\", X_test.shape, y_test.shape)\n"
   ]
  },
  {
   "cell_type": "code",
   "execution_count": 6,
   "id": "a74bb1ec-0c11-45e8-ad0d-ee5e21600b6a",
   "metadata": {},
   "outputs": [
    {
     "name": "stdout",
     "output_type": "stream",
     "text": [
      "Model Accuracy: 0.93\n",
      "\n",
      "Classification Report:\n",
      "               precision    recall  f1-score   support\n",
      "\n",
      "           0       0.95      0.98      0.96       181\n",
      "           1       0.69      0.47      0.56        19\n",
      "\n",
      "    accuracy                           0.93       200\n",
      "   macro avg       0.82      0.73      0.76       200\n",
      "weighted avg       0.92      0.93      0.92       200\n",
      "\n"
     ]
    },
    {
     "name": "stderr",
     "output_type": "stream",
     "text": [
      "C:\\Users\\reedj\\OneDrive\\Desktop\\AI_Governance\\AI_env\\lib\\site-packages\\sklearn\\linear_model\\_logistic.py:465: ConvergenceWarning: lbfgs failed to converge (status=1):\n",
      "STOP: TOTAL NO. of ITERATIONS REACHED LIMIT.\n",
      "\n",
      "Increase the number of iterations (max_iter) or scale the data as shown in:\n",
      "    https://scikit-learn.org/stable/modules/preprocessing.html\n",
      "Please also refer to the documentation for alternative solver options:\n",
      "    https://scikit-learn.org/stable/modules/linear_model.html#logistic-regression\n",
      "  n_iter_i = _check_optimize_result(\n"
     ]
    }
   ],
   "source": [
    "from sklearn.linear_model import LogisticRegression\n",
    "from sklearn.metrics import accuracy_score, classification_report\n",
    "\n",
    "# Initialize the model\n",
    "model = LogisticRegression()\n",
    "\n",
    "# Train the model\n",
    "model.fit(X_train, y_train)\n",
    "\n",
    "# Make predictions\n",
    "y_pred = model.predict(X_test)\n",
    "\n",
    "# Evaluate performance\n",
    "print(\"Model Accuracy:\", accuracy_score(y_test, y_pred))\n",
    "print(\"\\nClassification Report:\\n\", classification_report(y_test, y_pred))\n",
    "\n"
   ]
  },
  {
   "cell_type": "code",
   "execution_count": 7,
   "id": "88ef1c92-e4f1-424e-9adf-3e1b5dd14be4",
   "metadata": {},
   "outputs": [
    {
     "data": {
      "image/png": "[encoded data removed]",
      "text/plain": [
       "<Figure size 500x400 with 2 Axes>"
      ]
     },
     "metadata": {},
     "output_type": "display_data"
    }
   ],
   "source": [
    "import seaborn as sns\n",
    "import matplotlib.pyplot as plt\n",
    "from sklearn.metrics import confusion_matrix\n",
    "\n",
    "# Compute confusion matrix\n",
    "cm = confusion_matrix(y_test, y_pred)\n",
    "\n",
    "# Plot heatmap\n",
    "plt.figure(figsize=(5,4))\n",
    "sns.heatmap(cm, annot=True, fmt=\"d\", cmap=\"coolwarm\", xticklabels=[\"No Disease\", \"Heart Disease\"], yticklabels=[\"No Disease\", \"Heart Disease\"])\n",
    "plt.xlabel(\"Predicted\")\n",
    "plt.ylabel(\"Actual\")\n",
    "plt.title(\"Confusion Matrix\")\n",
    "plt.show()\n"
   ]
  },
  {
   "cell_type": "code",
   "execution_count": 8,
   "id": "8f3f82b9-5626-4148-8640-3787dc97b044",
   "metadata": {},
   "outputs": [
    {
     "data": {
      "image/png": "[encoded data removed]",
      "text/plain": [
       "<Figure size 600x500 with 1 Axes>"
      ]
     },
     "metadata": {},
     "output_type": "display_data"
    }
   ],
   "source": [
    "from sklearn.metrics import roc_curve, auc\n",
    "\n",
    "# Get prediction probabilities\n",
    "y_probs = model.predict_proba(X_test)[:, 1]\n",
    "\n",
    "# Compute ROC curve\n",
    "fpr, tpr, _ = roc_curve(y_test, y_probs)\n",
    "roc_auc = auc(fpr, tpr)\n",
    "\n",
    "# Plot ROC Curve\n",
    "plt.figure(figsize=(6,5))\n",
    "plt.plot(fpr, tpr, color=\"blue\", lw=2, label=\"AUC = %0.2f\" % roc_auc)\n",
    "plt.plot([0, 1], [0, 1], color=\"gray\", linestyle=\"--\")  # Random guess line\n",
    "plt.xlabel(\"False Positive Rate\")\n",
    "plt.ylabel(\"True Positive Rate\")\n",
    "plt.title(\"Receiver Operating Characteristic (ROC) Curve\")\n",
    "plt.legend(loc=\"lower right\")\n",
    "plt.show()\n"
   ]
  },
  {
   "cell_type": "code",
   "execution_count": 9,
   "id": "42d4d2a6-3248-48a8-b45b-cd52336aa071",
   "metadata": {},
   "outputs": [
    {
     "name": "stdout",
     "output_type": "stream",
     "text": [
      "\n",
      "Random Forest Model Accuracy: 0.995\n",
      "\n",
      "Classification Report:\n",
      "               precision    recall  f1-score   support\n",
      "\n",
      "           0       0.99      1.00      1.00       181\n",
      "           1       1.00      0.95      0.97        19\n",
      "\n",
      "    accuracy                           0.99       200\n",
      "   macro avg       1.00      0.97      0.99       200\n",
      "weighted avg       1.00      0.99      0.99       200\n",
      "\n"
     ]
    }
   ],
   "source": [
    "from sklearn.ensemble import RandomForestClassifier\n",
    "\n",
    "# Initialize and train model\n",
    "rf_model = RandomForestClassifier(n_estimators=100, random_state=42)\n",
    "rf_model.fit(X_train, y_train)\n",
    "\n",
    "# Predictions\n",
    "y_pred_rf = rf_model.predict(X_test)\n",
    "\n",
    "# Evaluate performance\n",
    "print(\"\\nRandom Forest Model Accuracy:\", accuracy_score(y_test, y_pred_rf))\n",
    "print(\"\\nClassification Report:\\n\", classification_report(y_test, y_pred_rf))\n"
   ]
  },
  {
   "cell_type": "code",
   "execution_count": 10,
   "id": "0887f7ff-f45d-4178-9c77-3d37a3df9ac9",
   "metadata": {},
   "outputs": [
    {
     "name": "stdout",
     "output_type": "stream",
     "text": [
      "📊 Model Performance for Males:\n",
      "               precision    recall  f1-score   support\n",
      "\n",
      "           0       0.95      0.96      0.96        84\n",
      "           1       0.57      0.50      0.53         8\n",
      "\n",
      "    accuracy                           0.92        92\n",
      "   macro avg       0.76      0.73      0.75        92\n",
      "weighted avg       0.92      0.92      0.92        92\n",
      "\n",
      "\n",
      "📊 Model Performance for Females:\n",
      "               precision    recall  f1-score   support\n",
      "\n",
      "           0       0.94      0.99      0.96        97\n",
      "           1       0.83      0.45      0.59        11\n",
      "\n",
      "    accuracy                           0.94       108\n",
      "   macro avg       0.89      0.72      0.78       108\n",
      "weighted avg       0.93      0.94      0.93       108\n",
      "\n"
     ]
    }
   ],
   "source": [
    "import numpy as np\n",
    "from sklearn.metrics import classification_report\n",
    "\n",
    "# Filter test data by gender\n",
    "male_idx = X_test[\"Gender\"] == 1\n",
    "female_idx = X_test[\"Gender\"] == 0\n",
    "\n",
    "# Model predictions for males & females\n",
    "y_pred_male = model.predict(X_test[male_idx])\n",
    "y_pred_female = model.predict(X_test[female_idx])\n",
    "\n",
    "# True labels\n",
    "y_test_male = y_test[male_idx]\n",
    "y_test_female = y_test[female_idx]\n",
    "\n",
    "# Print classification report for each gender\n",
    "print(\"📊 Model Performance for Males:\\n\", classification_report(y_test_male, y_pred_male))\n",
    "print(\"\\n📊 Model Performance for Females:\\n\", classification_report(y_test_female, y_pred_female))\n"
   ]
  },
  {
   "cell_type": "code",
   "execution_count": 11,
   "id": "d6da8fa8-68bf-41af-9467-a64b4ecc1842",
   "metadata": {},
   "outputs": [
    {
     "name": "stdout",
     "output_type": "stream",
     "text": [
      "🔍 Top Features Influencing Predictions:\n",
      "                     Feature  Importance\n",
      "7            Smoking_Status    2.998028\n",
      "1                    Gender    0.125900\n",
      "9            Family_History    0.106473\n",
      "8                       BMI    0.087826\n",
      "10  Exercise_Hours_Per_Week    0.079084\n",
      "0                       Age    0.062368\n",
      "3              Diastolic_BP    0.030236\n",
      "6                Heart_Rate    0.028371\n",
      "2               Systolic_BP    0.027117\n",
      "4               Cholesterol    0.024400\n",
      "5             Glucose_Level    0.013471\n"
     ]
    }
   ],
   "source": [
    "import pandas as pd\n",
    "\n",
    "# Extract feature importance\n",
    "feature_importance = pd.DataFrame({\"Feature\": X_train.columns, \n",
    "                                   \"Importance\": np.abs(model.coef_[0])})\n",
    "# Sort by importance\n",
    "feature_importance = feature_importance.sort_values(by=\"Importance\", ascending=False)\n",
    "\n",
    "# Display top features\n",
    "print(\"🔍 Top Features Influencing Predictions:\\n\", feature_importance)\n"
   ]
  },
  {
   "cell_type": "code",
   "execution_count": 12,
   "id": "84c2d6c7-c083-4eb0-b246-88fa5a7b0188",
   "metadata": {},
   "outputs": [
    {
     "name": "stdout",
     "output_type": "stream",
     "text": [
      "🌲 Random Forest - Top Features:\n",
      "                     Feature  Importance\n",
      "4               Cholesterol    0.313114\n",
      "0                       Age    0.265548\n",
      "7            Smoking_Status    0.219245\n",
      "5             Glucose_Level    0.043103\n",
      "2               Systolic_BP    0.035439\n",
      "3              Diastolic_BP    0.034553\n",
      "8                       BMI    0.031402\n",
      "6                Heart_Rate    0.027698\n",
      "10  Exercise_Hours_Per_Week    0.021772\n",
      "1                    Gender    0.004626\n",
      "9            Family_History    0.003499\n"
     ]
    }
   ],
   "source": [
    "# Extract feature importance from Random Forest\n",
    "rf_importance = pd.DataFrame({\"Feature\": X_train.columns, \n",
    "                              \"Importance\": rf_model.feature_importances_})\n",
    "rf_importance = rf_importance.sort_values(by=\"Importance\", ascending=False)\n",
    "\n",
    "print(\"🌲 Random Forest - Top Features:\\n\", rf_importance)\n"
   ]
  },
  {
   "cell_type": "code",
   "execution_count": 13,
   "id": "86742e9a-c8fb-475f-981b-18b05272102f",
   "metadata": {},
   "outputs": [
    {
     "name": "stdout",
     "output_type": "stream",
     "text": [
      "⚠️ False Positives: 4\n",
      "⚠️ False Negatives: 10\n"
     ]
    }
   ],
   "source": [
    "from sklearn.metrics import confusion_matrix\n",
    "\n",
    "# Compute confusion matrix\n",
    "cm = confusion_matrix(y_test, y_pred)\n",
    "\n",
    "# Extract False Positives & False Negatives\n",
    "false_positives = cm[0][1]\n",
    "false_negatives = cm[1][0]\n",
    "\n",
    "print(f\"⚠️ False Positives: {false_positives}\")\n",
    "print(f\"⚠️ False Negatives: {false_negatives}\")\n"
   ]
  },
  {
   "cell_type": "code",
   "execution_count": null,
   "id": "82985909-54c7-49ce-98c3-d8a70393779d",
   "metadata": {},
   "outputs": [],
   "source": []
  }
 ],
 "metadata": {
  "kernelspec": {
   "display_name": "Python 3 (ipykernel)",
   "language": "python",
   "name": "python3"
  },
  "language_info": {
   "codemirror_mode": {
    "name": "ipython",
    "version": 3
   },
   "file_extension": ".py",
   "mimetype": "text/x-python",
   "name": "python",
   "nbconvert_exporter": "python",
   "pygments_lexer": "ipython3",
   "version": "3.9.13"
  }
 },
 "nbformat": 4,
 "nbformat_minor": 5
}
